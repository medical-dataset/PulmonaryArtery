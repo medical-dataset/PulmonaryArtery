{
 "cells": [
  {
   "cell_type": "code",
   "execution_count": null,
   "metadata": {
    "vscode": {
     "languageId": "plaintext"
    }
   },
   "outputs": [],
   "source": [
    "# 📓 02_intersect_plane_extract_ids.ipynb\n",
    "\n",
    "import pyvista as pv\n",
    "from src.mesh_utils import load_mesh\n",
    "from src.plane_intersection import intersect_mesh_with_plane\n",
    "from src.io import save_point_ids\n",
    "\n",
    "# Load the mesh\n",
    "template_path = 'data/template_mesh.vtk'\n",
    "mesh = load_mesh(template_path)\n",
    "\n",
    "# Define plane parameters\n",
    "origin = [-10, 20, 5]\n",
    "normal = [0.1, -0.3, 0.9]\n",
    "\n",
    "# Perform intersection\n",
    "points, ids = intersect_mesh_with_plane(mesh, origin, normal)\n",
    "\n",
    "# Save the IDs\n",
    "save_point_ids(ids, 'output/pa_point_ids.json')\n",
    "\n",
    "# Visualize the intersection\n",
    "plotter = pv.Plotter()\n",
    "plotter.add_mesh(mesh, color='lightgrey', opacity=0.3)\n",
    "plotter.add_points(points, color='red', point_size=10.0, render_points_as_spheres=True)\n",
    "plotter.show(title='Intersection Points - PA Region')"
   ]
  }
 ],
 "metadata": {
  "language_info": {
   "name": "python"
  }
 },
 "nbformat": 4,
 "nbformat_minor": 2
}
