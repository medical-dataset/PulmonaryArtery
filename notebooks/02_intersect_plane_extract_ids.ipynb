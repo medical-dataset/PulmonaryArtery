{
 "cells": [
  {
   "cell_type": "code",
   "execution_count": null,
   "metadata": {},
   "outputs": [],
   "source": [
    "# 📓 02_intersect_plane_extract_ids.ipynb\n",
    "\n",
    "import pyvista as pv\n",
    "import sys\n",
    "import os\n",
    "sys.path.append(os.path.abspath('../'))\n",
    "from utils.mesh_utils import load_mesh\n",
    "from src.plane_intersection import intersect_mesh_with_plane\n",
    "from src.io import save_point_ids\n",
    "print(\"Working directory:\", os.getcwd())\n",
    "print(\"File will be saved to:\", os.path.join('output', 'pa_point_ids.json'))\n",
    "output_dir = os.path.abspath('../output')  ## Set the output directory one level up from the notebook directory\n",
    "output_path = os.path.join(output_dir, 'pa_point_ids.json')\n",
    "\n",
    "# Load the mesh\n",
    "template_path = r\"\\\\isd_netapp\\mvafaeez$\\Projects\\PA\\PAmesh\\data\\template\\vtks\\RV_ED.vtk\"\n",
    "mesh = load_mesh(template_path)\n",
    "\n",
    "# Define plane parameters\n",
    "origin = [-10, 20, 5]\n",
    "normal = [0.1, -0.3, 0.9]\n",
    "\n",
    "# Perform intersection\n",
    "points, ids = intersect_mesh_with_plane(mesh, origin, normal)\n",
    "\n",
    "# Save the IDs\n",
    "save_point_ids(ids, output_path)\n",
    "\n",
    "# Visualize the intersection\n",
    "plotter = pv.Plotter()\n",
    "plotter.add_mesh(mesh, color='lightgrey', opacity=0.3)\n",
    "plotter.add_points(points, color='red', point_size=10.0, render_points_as_spheres=True)\n",
    "plotter.show(title='Intersection Points - PA Region')"
   ]
  }
 ],
 "metadata": {
  "kernelspec": {
   "display_name": "strainenv",
   "language": "python",
   "name": "python3"
  },
  "language_info": {
   "codemirror_mode": {
    "name": "ipython",
    "version": 3
   },
   "file_extension": ".py",
   "mimetype": "text/x-python",
   "name": "python",
   "nbconvert_exporter": "python",
   "pygments_lexer": "ipython3",
   "version": "3.12.7"
  }
 },
 "nbformat": 4,
 "nbformat_minor": 2
}
