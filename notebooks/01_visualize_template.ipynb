{
 "cells": [
  {
   "cell_type": "code",
   "execution_count": null,
   "metadata": {
    "vscode": {
     "languageId": "plaintext"
    }
   },
   "outputs": [],
   "source": [
    "# 📓 01_visualize_template.ipynb\n",
    "\n",
    "import pyvista as pv\n",
    "from src.mesh_utils import load_mesh\n",
    "\n",
    "# Load the template mesh\n",
    "template_path = 'data/template_mesh.vtk'\n",
    "mesh = load_mesh(template_path)\n",
    "\n",
    "# Create a plotter and display the mesh\n",
    "plotter = pv.Plotter()\n",
    "plotter.add_mesh(mesh, color='lightblue', opacity=0.7, show_edges=True)\n",
    "plotter.add_axes()\n",
    "plotter.show_grid()\n",
    "plotter.show(title='Template Mesh - End Diastole')"
   ]
  }
 ],
 "metadata": {
  "language_info": {
   "name": "python"
  }
 },
 "nbformat": 4,
 "nbformat_minor": 2
}
