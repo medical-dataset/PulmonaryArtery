{
 "cells": [
  {
   "cell_type": "code",
   "execution_count": null,
   "metadata": {
    "vscode": {
     "languageId": "plaintext"
    }
   },
   "outputs": [],
   "source": [
    "# 📓 04_extract_diameters.ipynb\n",
    "\n",
    "import numpy as np\n",
    "import matplotlib.pyplot as plt\n",
    "from sklearn.decomposition import PCA\n",
    "import os\n",
    "import pandas as pd\n",
    "from src.mesh_utils import load_mesh\n",
    "from src.io import load_point_ids\n",
    "\n",
    "# Load point IDs\n",
    "id_list = load_point_ids('output/pa_point_ids.json')\n",
    "subject_dir = 'data/subject_meshes/'\n",
    "subject_files = sorted(os.listdir(subject_dir))\n",
    "\n",
    "records = []\n",
    "\n",
    "for fname in subject_files:\n",
    "    mesh = load_mesh(os.path.join(subject_dir, fname))\n",
    "    points = mesh.points[id_list]\n",
    "\n",
    "    # Center the points\n",
    "    points_centered = points - np.mean(points, axis=0)\n",
    "\n",
    "    # Apply PCA to find major and minor axes\n",
    "    pca = PCA(n_components=2)\n",
    "    pca.fit(points_centered)\n",
    "    \n",
    "    # Project points onto principal components\n",
    "    proj = pca.transform(points_centered)\n",
    "    diameter_major = np.max(proj[:, 0]) - np.min(proj[:, 0])\n",
    "    diameter_minor = np.max(proj[:, 1]) - np.min(proj[:, 1])\n",
    "\n",
    "    records.append({\n",
    "        'subject': fname,\n",
    "        'major_diameter': diameter_major,\n",
    "        'minor_diameter': diameter_minor\n",
    "    })\n",
    "\n",
    "# Save result\n",
    "df = pd.DataFrame(records)\n",
    "df.to_csv('output/subject_diameters.csv', index=False)\n",
    "df.head()"
   ]
  }
 ],
 "metadata": {
  "language_info": {
   "name": "python"
  }
 },
 "nbformat": 4,
 "nbformat_minor": 2
}
