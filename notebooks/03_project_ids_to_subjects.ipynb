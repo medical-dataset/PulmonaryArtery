{
 "cells": [
  {
   "cell_type": "code",
   "execution_count": null,
   "metadata": {
    "vscode": {
     "languageId": "plaintext"
    }
   },
   "outputs": [],
   "source": [
    "# 📓 03_project_ids_to_subjects.ipynb\n",
    "\n",
    "import os\n",
    "import pandas as pd\n",
    "from src.mesh_utils import load_mesh\n",
    "from src.io import load_point_ids\n",
    "from src.feature_extraction import compute_cross_section_area\n",
    "\n",
    "# Load intersected point IDs from template\n",
    "id_list = load_point_ids('output/pa_point_ids.json')\n",
    "\n",
    "# Directory with all subject meshes\n",
    "subject_dir = 'data/subject_meshes/'\n",
    "subject_files = sorted(os.listdir(subject_dir))\n",
    "\n",
    "results = []\n",
    "\n",
    "for fname in subject_files:\n",
    "    path = os.path.join(subject_dir, fname)\n",
    "    mesh = load_mesh(path)\n",
    "    \n",
    "    # Extract same region by point IDs\n",
    "    selected_points = mesh.points[id_list]\n",
    "\n",
    "    # Compute area of the selected region\n",
    "    area = compute_cross_section_area(selected_points)\n",
    "    \n",
    "    results.append({\n",
    "        'subject': fname,\n",
    "        'pa_area': area\n",
    "    })\n",
    "\n",
    "# Save to CSV\n",
    "results_df = pd.DataFrame(results)\n",
    "results_df.to_csv('output/subject_measurements.csv', index=False)\n",
    "results_df.head()"
   ]
  }
 ],
 "metadata": {
  "language_info": {
   "name": "python"
  }
 },
 "nbformat": 4,
 "nbformat_minor": 2
}
